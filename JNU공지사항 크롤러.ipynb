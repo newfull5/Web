{
 "cells": [
  {
   "cell_type": "code",
   "execution_count": 7,
   "metadata": {},
   "outputs": [],
   "source": [
    "from selenium import webdriver\n",
    "import bs4\n",
    "import pandas as pd\n",
    "\n",
    "# 셀레니움을 사용하여 HTML태그를 반환하는 함수입니다.\n",
    "def get_sources():\n",
    "    \n",
    "    sources = []\n",
    "    \n",
    "    driver = webdriver.Chrome('C:\\웹 드라이버\\chromedriver.exe')\n",
    "    driver.implicitly_wait(1)\n",
    "    driver.get('http://www.jejunu.ac.kr/ara/notice')\n",
    "    \n",
    "    html = driver.page_source\n",
    "    soup = bs4.BeautifulSoup(html, 'html.parser')\n",
    "    \n",
    "    trs = soup.find_all(\"tr\")\n",
    "    \n",
    "    # <tr>태그 내부에 존재하는 <td>태그를 탐색합니다.\n",
    "    for tr in trs:\n",
    "        tds = tr.find_all('td')\n",
    "        \n",
    "        # <td>태그를 리스트에 삽입합니다.\n",
    "        for td in tds:\n",
    "            source = td.text\n",
    "            sources.append(source)\n",
    "            \n",
    "    return sources\n",
    "\n",
    "sources = get_sources()"
   ]
  },
  {
   "cell_type": "code",
   "execution_count": 39,
   "metadata": {},
   "outputs": [],
   "source": [
    "# 불필요한 공백과 특수문자를 제거합니다.\n",
    "for i in range(len(sources)):\n",
    "    sources[i] = sources[i].replace(\" \",\"\")\n",
    "    sources[i] = sources[i].replace(\"\\n\",\"\")\n",
    "    sources[i] = sources[i].replace(\"\\t\",\"\")\n",
    "\n",
    "# 제목, 작성자, 날짜만 파싱하여 리스트에 삽입합니다.\n",
    "\n",
    "name = []\n",
    "offeror = []\n",
    "date = []\n",
    "\n",
    "for i in range(len(sources)):\n",
    "    if i % 5 == 1:\n",
    "        name.append(sources[i])\n",
    "    if i % 5 == 2:\n",
    "        offeror.append(sources[i])\n",
    "    if i % 5 == 3:\n",
    "        date.append(sources[i])\n",
    "        \n"
   ]
  }
 ],
 "metadata": {
  "kernelspec": {
   "display_name": "Python 3",
   "language": "python",
   "name": "python3"
  },
  "language_info": {
   "codemirror_mode": {
    "name": "ipython",
    "version": 3
   },
   "file_extension": ".py",
   "mimetype": "text/x-python",
   "name": "python",
   "nbconvert_exporter": "python",
   "pygments_lexer": "ipython3",
   "version": "3.7.4"
  }
 },
 "nbformat": 4,
 "nbformat_minor": 2
}
