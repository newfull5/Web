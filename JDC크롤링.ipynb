{
 "cells": [
  {
   "cell_type": "markdown",
   "metadata": {},
   "source": [
    "# JDC행사정보 크롤링 모듈<br>\n",
    "- https://www.jdcenter.com/prcenter/issue/notice.cs 를 대상합니다.<br><br>\n",
    "- 제목, 주제, 시간, 장소, 대상자, 방법에 해당하는 텍스트만 파싱하여 DB에 채워넣는 것을 목표로 합니다. <br><br>\n",
    "- 동적으로 웹을 그리는 까닭에 selenium 모듈을 사용하였습니다.<br><br>\n",
    "- 크롤링한 텍스트를 파싱하기 위해 beautifulsoup4 라이브러리를 사용하였습니다.<br><br>\n",
    "- 해당 프로그램에서 driver.implicitly_wait()이 작동하지 않아서 time.sleep()을 사용하였습니다."
   ]
  },
  {
   "cell_type": "code",
   "execution_count": 1,
   "metadata": {},
   "outputs": [],
   "source": [
    "from selenium import webdriver\n",
    "import bs4\n",
    "from time import sleep"
   ]
  },
  {
   "cell_type": "code",
   "execution_count": 2,
   "metadata": {},
   "outputs": [],
   "source": [
    "#게시글 제목과 전문을 파싱하여 채워넣기 위한 배열입니다.\n",
    "title = []\n",
    "body = []\n",
    "url = []"
   ]
  },
  {
   "cell_type": "code",
   "execution_count": 3,
   "metadata": {},
   "outputs": [],
   "source": [
    "#게시글을 해당 속성을 파싱하여 채워넣기 위한 배열입니다.\n",
    "time_set = []\n",
    "howto_set = []\n",
    "place_set = []\n",
    "targeter_set = []\n",
    "topic_set = []"
   ]
  },
  {
   "cell_type": "markdown",
   "metadata": {},
   "source": [
    "## Before executing Selenium <br>\n",
    "- selenium 라이브러리는 파싱을 목적으로하는 라이브러리가 아닌 웹을 제어하는 라이브러리 입니다.<br><br>\n",
    "- selenium 라이브러리는 전적으로 웹 브라우저에 의존하여 동작합니다.<br><br>\n",
    "- 웹 드라이버를 첨부하였습니다. 필자의 경우 크롬 79.0 버전을 사용하였습니다. 자신이 사용하는 브라우저와 버전에 맞추어 저장하도록 합니다.<br>"
   ]
  },
  {
   "cell_type": "code",
   "execution_count": 4,
   "metadata": {
    "scrolled": true
   },
   "outputs": [
    {
     "name": "stdout",
     "output_type": "stream",
     "text": [
      "[+]게시글 1번째를 파싱했습니다[+]\n",
      "[+]게시글 2번째를 파싱했습니다[+]\n",
      "[+]게시글 3번째를 파싱했습니다[+]\n",
      "[+]게시글 4번째를 파싱했습니다[+]\n",
      "[+]게시글 5번째를 파싱했습니다[+]\n",
      "[+]게시글 6번째를 파싱했습니다[+]\n",
      "[+]게시글 7번째를 파싱했습니다[+]\n",
      "[+]게시글 8번째를 파싱했습니다[+]\n",
      "[+]게시글 9번째를 파싱했습니다[+]\n"
     ]
    }
   ],
   "source": [
    "#글의 제목과 게시글 전문을 크롤링하는 코드입니다.\n",
    "driver = webdriver.Chrome('C:\\웹 드라이버\\chromedriver.exe')#웹 드라이버가 저장되는 경로입니다.\n",
    "driver.implicitly_wait(1)\n",
    "driver.get('https://www.jdcenter.com/prcenter/issue/notice.cs')\n",
    "    \n",
    "html = driver.page_source\n",
    "soup = bs4.BeautifulSoup(html, 'html.parser')\n",
    "\n",
    "sleep(5)    #IDLE TIME은 자신의 인터넷 속도에 맞추어 유동적으로 할당해도 좋습니다.\n",
    "\n",
    "# 해당 반복문은 게시글 전체(266개)를 모두 탐색할 수 있습니다. 지금은 간단히 9개의 게시글을 탐색하도록 합니다.\n",
    "for i in range(1, 10): \n",
    "    \n",
    "    # 2 ~ 25 페이지를 클릭해주는 코드 입니다.\n",
    "    if 20 >= i > 10:\n",
    "        next_page = driver.find_element_by_xpath('//*[@id=\"pagination\"]/div/div/a[{}]'.format(2))\n",
    "        next_page.click() \n",
    "        sleep(3)\n",
    "    if 30 >= i > 20:\n",
    "        next_page = driver.find_element_by_xpath('//*[@id=\"pagination\"]/div/div/a[{}]'.format(3))\n",
    "        next_page.click() \n",
    "        sleep(3)\n",
    "    if 40 >= i > 30:\n",
    "        next_page = driver.find_element_by_xpath('//*[@id=\"pagination\"]/div/div/a[{}]'.format(4))\n",
    "        next_page.click() \n",
    "        sleep(3)\n",
    "    if i > 40:\n",
    "        next_page = driver.find_element_by_xpath('//*[@id=\"pagination\"]/div/div/a[{}]'.format(5))\n",
    "        next_page.click() \n",
    "        sleep(3)\n",
    "    if i > 50:\n",
    "        next_page = driver.find_element_by_xpath('//*[@id=\"pagination\"]/div/a[2]')\n",
    "        next_page.click()\n",
    "        sleep(3)\n",
    "    if i > 60:\n",
    "        if i % 10 == 0:\n",
    "            for k in range(0, (i//10)-6):\n",
    "                next_page = driver.find_element_by_xpath('//*[@id=\"pagination\"]/div/a[3]')\n",
    "                next_page.click()\n",
    "                sleep(4)\n",
    "        else:\n",
    "            for k in range(0, (i//10)-5):\n",
    "                next_page = driver.find_element_by_xpath('//*[@id=\"pagination\"]/div/a[3]')\n",
    "                next_page.click()\n",
    "                sleep(4)         \n",
    "    #------------------\n",
    "    \n",
    "    j = i%10\n",
    "    if j == 0:\n",
    "        j = 10\n",
    "\n",
    "    sleep(2)\n",
    "    post_page = driver.find_element_by_xpath('//*[@id=\"datatable\"]/tbody/tr[{}]/td[2]/a'.format(j))\n",
    "    post_page.click()\n",
    "\n",
    "    sleep(2)\n",
    "    driver.get(driver.current_url)\n",
    "    html = driver.page_source\n",
    "    soup = bs4.BeautifulSoup(html, 'html.parser')\n",
    "\n",
    "    sleep(2)\n",
    "    h3 = soup.find(\"h3\")\n",
    "    title.append(h3.text)\n",
    "\n",
    "    bod = soup.find('div', class_='bod_bd')\n",
    "    body.append(bod.text)\n",
    "    \n",
    "    url.append(driver.current_url)\n",
    "\n",
    "    driver.back()\n",
    "    sleep(2)\n",
    "    \n",
    "    print('[+]게시글 '+ str(i) +'번째를 파싱했습니다[+]')\n",
    "#title과 body 배열에 각각의 요소를 파싱했습니다."
   ]
  },
  {
   "cell_type": "code",
   "execution_count": 12,
   "metadata": {},
   "outputs": [],
   "source": [
    "#파싱된 텍스트중 \\xa0을 지우는 코드 입니다.\n",
    "for i in range(0, len(body)):\n",
    "    body[i] = body[i].replace(\"\\xa0\",\"\")"
   ]
  },
  {
   "cell_type": "code",
   "execution_count": 6,
   "metadata": {},
   "outputs": [],
   "source": [
    "#파싱된 텍스트중 \\n\\n을 줄이는 코드 입니다.\n",
    "for i in range(0, len(body)):\n",
    "    body[i] = body[i].replace(\"\\n\\n\",\"\\n\")"
   ]
  },
  {
   "cell_type": "markdown",
   "metadata": {},
   "source": [
    "## 해당 텍스트 파싱 알고리즘<BR>\n",
    "- 정규식을 이용하여 파싱하였습니다.<BR><br>\n",
    "- 게시글 전문 중 해당 텍스트를 포함하고 있는 게시글을 한 줄 때어내어 파싱합니다.<BR><br>\n",
    "- 예를들어, 신청방법의 경우 '접수 방법', '참가 신청', '신청 방법' 등의 텍스트를 포함합니다. 게시글 중 해당 텍스트를 포함하는 텍스트를 한줄 때어다가 배열에 채워넣는 방식입니다."
   ]
  },
  {
   "cell_type": "code",
   "execution_count": 7,
   "metadata": {},
   "outputs": [
    {
     "name": "stdout",
     "output_type": "stream",
     "text": [
      "0\n",
      "ㅇ 행복주택 입주자 모집 신청 일시 : 2020.2.14.(금)~2.17(월), 10:00~17:00(주말포함)\n",
      "ㅇ 10년공공임대 계약 체결 일시 : 2020.2.17.(월)~2.20(목), 10:00~16:00\n",
      "2. 또한 접수인의 안전을 위해 접수기간 동안 방문 시 필히 마스크 착용을 부탁드리며,최근 14일 이내 중국 등을 방문하거나 발열(37.5℃ 이상)또는 호흡기증상이 있으신 경우 현장 접수를 제한하고 있습니다.\n",
      "1\n",
      "2. 사업기간 : 2020. 02. ~ 2020. 10.\n",
      "ㅇ 접수기간 : 2020. 2. 11.(화)~ 2. 21.(금)\n",
      "2\n",
      "2. 사업기간 : 2020. 02. ~ 2020. 10.\n",
      "3\n",
      "가. 모집공고일: 2020.02.04.(화) ~ 2020.02.13.(목)\n",
      "마. 신청 접수일: 2020.02.14.(금) ~ 2020.02.17.(월), 10:00~17:00\n",
      "4\n",
      "\t\t\t□ JDC의 행복주택 공고일이 당초 일정보다 일주일 뒤인 2020년 2월 4일로 변경됨을 알려드립니다.\n",
      "5\n",
      "6\n",
      "7\n",
      "ㅇ 접수기간 : 2020.01.15.(수) ~ 2020.02.14.(금) 낮 12시\n",
      "ㅇ 일시 : 2020.02.04. (화) 1차 10시 /2차 16시\n",
      "8\n"
     ]
    }
   ],
   "source": [
    "#날짜부분 파싱 알고리즘\n",
    "import re\n",
    "\n",
    "time = re.compile('\\d\\w*\\s*\\d')\n",
    "date_catch = re.compile('기\\s*간|일\\s*시|일자\\s+|접수일|접수기간|접수마감|공고일|공고기간|기한|모집기간|일정')\n",
    "\n",
    "i = 0\n",
    "for test in body:\n",
    "    text = test.split('\\n')\n",
    "    print(i)\n",
    "    i += 1\n",
    "    temp = []\n",
    "    for t in text:\n",
    "        if(time.search(t) and date_catch.search(t)):\n",
    "            print(str(t))\n",
    "            temp.append(t)\n",
    "            \n",
    "    time_set.append(temp)\n",
    "    \n",
    "    \n",
    "#--------------------"
   ]
  },
  {
   "cell_type": "code",
   "execution_count": 8,
   "metadata": {
    "scrolled": true
   },
   "outputs": [
    {
     "name": "stdout",
     "output_type": "stream",
     "text": [
      "0\n",
      "2. 또한 접수인의 안전을 위해 접수기간 동안 방문 시 필히 마스크 착용을 부탁드리며,최근 14일 이내 중국 등을 방문하거나 발열(37.5℃ 이상)또는 호흡기증상이 있으신 경우 현장 접수를 제한하고 있습니다.\n",
      "※ 방문시 엘리트 빌딩 1층(로비) 정문을 통해서 만 출입이 가능합니다.\n",
      "1\n",
      "ㅇ 접수방법 : 방문, 우편, 이메일 접수 가능\n",
      "- 우편 & 방문접수: 제주시 도남로 121. 3층\n",
      "2\n",
      "3\n",
      "다. 모집방법: 현장 접수(JDC 엘리트 빌딩 4층 대강당) 또는 우편접수\n",
      "4\n",
      "5\n",
      "6\n",
      "7\n",
      "2. 접수방법\n",
      "ㅇ 접수기간 : 2020.01.15.(수) ~ 2020.02.14.(금) 낮 12시\n",
      "ㅇ 접수방법 : 구글 설문지 제출(수시접수)\n",
      "8\n"
     ]
    }
   ],
   "source": [
    "#신청방법 부분 파싱 알고리즘\n",
    "howto_catch = re.compile('접수\\s*방법|참가\\s*신청|방문|신청\\s*방법|접수안내|응모\\s*방법|모집\\s*방법|지원\\s*방법')\n",
    "\n",
    "i = 0\n",
    "for test in body:\n",
    "    text = test.split('\\n')\n",
    "    print(i)\n",
    "    i += 1\n",
    "    temp = []\n",
    "    for t in text:\n",
    "        if(howto_catch.search(t)):\n",
    "            print(t)\n",
    "            temp.append(t)\n",
    "            if(len(t)<=10):\n",
    "                print(text[text.index(t)+1])\n",
    "                temp.append(text[text.index(t)+1])\n",
    "            \n",
    "    howto_set.append(temp)\n",
    "#-------------------"
   ]
  },
  {
   "cell_type": "code",
   "execution_count": 9,
   "metadata": {
    "scrolled": true
   },
   "outputs": [
    {
     "name": "stdout",
     "output_type": "stream",
     "text": [
      "0\n",
      "JDC 공공임대주택 관련 현장접수 및 계약장소 변경 공지\n",
      "1\n",
      "2\n",
      "3\n",
      "4\n",
      "5\n",
      "6\n",
      "7\n",
      "ㅇ 장소 : (1차) 제주 사회적경제지원센터 내 몬딱가공소 대강당 (제주시 중앙로 165번지 고용복지플러스센터 1층)\n",
      "8\n"
     ]
    }
   ],
   "source": [
    "#장소 부분 파싱 알고리즘\n",
    "place_catch = re.compile('장\\s*소|축제\\s*장소')\n",
    "\n",
    "i = 0\n",
    "for test in body:\n",
    "    text = test.split('\\n')\n",
    "    print(i)\n",
    "    i += 1\n",
    "    temp = []\n",
    "    for t in text:\n",
    "        if(place_catch.search(t)):\n",
    "            print(t)\n",
    "            temp.append(t)\n",
    "            if(len(t)<=10):\n",
    "                print(text[text.index(t)+1])\n",
    "                temp.append(text[text.index(t)+1])\n",
    "            \n",
    "    place_set.append(temp)\n",
    "#-------------------"
   ]
  },
  {
   "cell_type": "code",
   "execution_count": 10,
   "metadata": {
    "scrolled": true
   },
   "outputs": [
    {
     "name": "stdout",
     "output_type": "stream",
     "text": [
      "0\n",
      "1\n",
      "3. 지원대상 : 도내 취약계층 아동가구\n",
      "1. 지원대상 신청조건\n",
      "2\n",
      "3. 지원대상 : 도내 취약계층 아동가구\n",
      "3\n",
      "라. 모집대상: 입주자격을 갖춘 자(모집 공고문 참조)\n",
      "4\n",
      "5\n",
      "6\n",
      "7\n",
      "\t\t\t JDC 제3차 사회적경제조직 지원사업 지원대상 모집 공고\n",
      "제주국제자유도시개발센터(JDC)가 지원하고 (재)한국사회투자가 수탁 운영하는 「JDC 제2차 사회적경제조직 지원사업」의 지원대상을 다음과 같이 공고합니다.\n",
      "ㅇ (지원대상) 제주 소재 성장기 사회적경제조직\n",
      "- 지원규모 : 지원대상별 최소 30백만원 ~ 최대 100백만원\n",
      "8\n"
     ]
    }
   ],
   "source": [
    "#대상자 부분 파싱 알고리즘\n",
    "targeter_catch = re.compile('참가\\s*자격|지원\\s*자격|지원\\s*대상|신청\\s*자격|지원\\s*대상|참여\\w*대상|참석\\w*대상|모집\\s*대상|자격\\s*요건|공모\\s*대상')\n",
    "\n",
    "i = 0\n",
    "for test in body:\n",
    "    text = test.split('\\n')\n",
    "    print(i)\n",
    "    i += 1\n",
    "    temp = []\n",
    "    for t in text:\n",
    "        if(targeter_catch.search(t)):\n",
    "            print(t)\n",
    "            temp.append(t)\n",
    "            if(len(t)<=10):\n",
    "                print(text[text.index(t)+1])\n",
    "                temp.append(text[text.index(t)+1])\n",
    "                \n",
    "    targeter_set.append(temp)\n",
    "#-------------------"
   ]
  },
  {
   "cell_type": "code",
   "execution_count": 11,
   "metadata": {
    "scrolled": true
   },
   "outputs": [
    {
     "name": "stdout",
     "output_type": "stream",
     "text": [
      "0\n",
      "1\n",
      "□ 주요 사업 내용\n",
      "1. 지원규모: 아동가정 가구 21세대 (세대당 최대 600만원)\n",
      "2. 지원내용 : 주거시설 성능개선 및 생활편의 개선 등에 지원\n",
      "2\n",
      "3\n",
      "4\n",
      "5\n",
      "6\n",
      "7\n",
      "ㅇ신청서의 모든 내용은 객관적으로 입증할 수 있어야 하며, 사업 내용 및 제출서류가 허위로 밝혀질 경우 (재)한국사회투자는\n",
      "8\n"
     ]
    }
   ],
   "source": [
    "#주제 부분 파싱 알고리즘\n",
    "topic_catch = re.compile('사업\\s*내용|응모\\s*주제|사업\\s*목적\\s+|연수\\s*내용|추진\\s*내용|지원\\s*내용|시상\\s*내용|공사\\s*내용|행사\\s*내용|대회\\s*주제|토론\\s*주제|스피치\\s*주제|응모\\s*주제|강의\\s*주제|대\\s*주제|소\\s*주제|공모\\s*주제|주요\\s*활동|활동\\s*내용|활동\\s*개요|\\s+주\\s*제\\s+')\n",
    "\n",
    "i = 0\n",
    "for test in body:\n",
    "    text = test.split('\\n')\n",
    "    print(i)\n",
    "    i += 1\n",
    "    temp = []\n",
    "    for t in text:\n",
    "        if(topic_catch.search(t)):\n",
    "            print(t)\n",
    "            temp.append(t)\n",
    "            if(len(t)<=10):\n",
    "                print(text[text.index(t)+1])\n",
    "                temp.append(text[text.index(t)+1])\n",
    "                \n",
    "    topic_set.append(temp)\n",
    "#-------------------"
   ]
  },
  {
   "cell_type": "code",
   "execution_count": 13,
   "metadata": {},
   "outputs": [
    {
     "name": "stdout",
     "output_type": "stream",
     "text": [
      " 0번째 게시글 입니다 [+] \n",
      "\n",
      "JDC 공공임대주택 관련 현장접수 및 계약장소 변경 공지\n",
      "\n",
      "ㅇ 행복주택 입주자 모집 신청 일시 : 2020.2.14.(금)~2.17(월), 10:00~17:00(주말포함)\n",
      "ㅇ 10년공공임대 계약 체결 일시 : 2020.2.17.(월)~2.20(목), 10:00~16:00\n",
      "2. 또한 접수인의 안전을 위해 접수기간 동안 방문 시 필히 마스크 착용을 부탁드리며,최근 14일 이내 중국 등을 방문하거나 발열(37.5℃ 이상)또는 호흡기증상이 있으신 경우 현장 접수를 제한하고 있습니다.\n",
      "2. 또한 접수인의 안전을 위해 접수기간 동안 방문 시 필히 마스크 착용을 부탁드리며,최근 14일 이내 중국 등을 방문하거나 발열(37.5℃ 이상)또는 호흡기증상이 있으신 경우 현장 접수를 제한하고 있습니다.\n",
      "※ 방문시 엘리트 빌딩 1층(로비) 정문을 통해서 만 출입이 가능합니다.\n",
      "JDC 공공임대주택 관련 현장접수 및 계약장소 변경 공지\n",
      "\n",
      "-------------------\n",
      "\n",
      " 1번째 게시글 입니다 [+] \n",
      "\n",
      "JDC 사랑의리모델링 지원 신청자 모집\n",
      "□ 주요 사업 내용\n",
      "1. 지원규모: 아동가정 가구 21세대 (세대당 최대 600만원)\n",
      "2. 지원내용 : 주거시설 성능개선 및 생활편의 개선 등에 지원\n",
      "2. 사업기간 : 2020. 02. ~ 2020. 10.\n",
      "ㅇ 접수기간 : 2020. 2. 11.(화)~ 2. 21.(금)\n",
      "ㅇ 접수방법 : 방문, 우편, 이메일 접수 가능\n",
      "- 우편 & 방문접수: 제주시 도남로 121. 3층\n",
      "\n",
      "3. 지원대상 : 도내 취약계층 아동가구\n",
      "1. 지원대상 신청조건\n",
      "-------------------\n",
      "\n",
      " 2번째 게시글 입니다 [+] \n",
      "\n",
      "JDC '사랑의 리모델링' 지원 신청자 모집\n",
      "\n",
      "2. 사업기간 : 2020. 02. ~ 2020. 10.\n",
      "\n",
      "\n",
      "3. 지원대상 : 도내 취약계층 아동가구\n",
      "-------------------\n",
      "\n",
      " 3번째 게시글 입니다 [+] \n",
      "\n",
      "제주첨단과학기술단지 A23블록 「JDC 제주첨단 행복주택」입주자 모집 공고\n",
      "\n",
      "가. 모집공고일: 2020.02.04.(화) ~ 2020.02.13.(목)\n",
      "마. 신청 접수일: 2020.02.14.(금) ~ 2020.02.17.(월), 10:00~17:00\n",
      "다. 모집방법: 현장 접수(JDC 엘리트 빌딩 4층 대강당) 또는 우편접수\n",
      "\n",
      "라. 모집대상: 입주자격을 갖춘 자(모집 공고문 참조)\n",
      "-------------------\n",
      "\n",
      " 4번째 게시글 입니다 [+] \n",
      "\n",
      "(알림) 행복주택 공고일 변경(1/29 ☞2/4)\n",
      "\n",
      "\t\t\t□ JDC의 행복주택 공고일이 당초 일정보다 일주일 뒤인 2020년 2월 4일로 변경됨을 알려드립니다.\n",
      "\n",
      "\n",
      "\n",
      "-------------------\n",
      "\n",
      " 5번째 게시글 입니다 [+] \n",
      "\n",
      "(일정변경)2020년도 JDC 제주혁신성장센터 ICT융합창업허브 2기 입주기업 모집 심사 일정변경 안내\n",
      "\n",
      "\n",
      "\n",
      "\n",
      "\n",
      "-------------------\n",
      "\n",
      " 6번째 게시글 입니다 [+] \n",
      "\n",
      "2020년도 JDC 제주혁신성장센터 ICT융합창업허브 2기 입주기업 모집 공고\n",
      "\n",
      "\n",
      "\n",
      "\n",
      "\n",
      "-------------------\n",
      "\n",
      " 7번째 게시글 입니다 [+] \n",
      "\n",
      "JDC 제3차 사회적경제조직 지원대상 모집 공고\n",
      "ㅇ신청서의 모든 내용은 객관적으로 입증할 수 있어야 하며, 사업 내용 및 제출서류가 허위로 밝혀질 경우 (재)한국사회투자는\n",
      "ㅇ 접수기간 : 2020.01.15.(수) ~ 2020.02.14.(금) 낮 12시\n",
      "ㅇ 일시 : 2020.02.04. (화) 1차 10시 /2차 16시\n",
      "2. 접수방법\n",
      "ㅇ 접수기간 : 2020.01.15.(수) ~ 2020.02.14.(금) 낮 12시\n",
      "ㅇ 접수방법 : 구글 설문지 제출(수시접수)\n",
      "ㅇ 장소 : (1차) 제주 사회적경제지원센터 내 몬딱가공소 대강당 (제주시 중앙로 165번지 고용복지플러스센터 1층)\n",
      "\t\t\t JDC 제3차 사회적경제조직 지원사업 지원대상 모집 공고\n",
      "제주국제자유도시개발센터(JDC)가 지원하고 (재)한국사회투자가 수탁 운영하는 「JDC 제2차 사회적경제조직 지원사업」의 지원대상을 다음과 같이 공고합니다.\n",
      "ㅇ (지원대상) 제주 소재 성장기 사회적경제조직\n",
      "- 지원규모 : 지원대상별 최소 30백만원 ~ 최대 100백만원\n",
      "-------------------\n",
      "\n",
      " 8번째 게시글 입니다 [+] \n",
      "\n",
      "다가구주택(토지 및 건물 일괄) 매각\n",
      "\n",
      "\n",
      "\n",
      "\n",
      "\n",
      "-------------------\n",
      "\n"
     ]
    }
   ],
   "source": [
    "#test it out\n",
    "for i in range(0, len(body)):\n",
    "    print(' '+str(i)+'번째 게시글 입니다 [+] \\n')\n",
    "    print(title[i].strip())\n",
    "    print(\"\\n\".join([str(i) for i in topic_set[i]] ))\n",
    "    print(\"\\n\".join([str(i) for i in time_set[i]] ))\n",
    "    print(\"\\n\".join([str(i) for i in howto_set[i]] ))\n",
    "    print(\"\\n\".join([str(i) for i in place_set[i]] ))\n",
    "    print(\"\\n\".join([str(i) for i in targeter_set[i]] ))\n",
    "    print('-------------------\\n')\n",
    "    \n",
    "#관리자 페이지에서 보여질 게시글은 아래와 같습니다."
   ]
  },
  {
   "cell_type": "markdown",
   "metadata": {},
   "source": [
    "## 서버API 호출 <br>\n",
    "- 해당 서비스 DB에 채워넣기 위해 API서버를 호출하는 코드입니다.<br><br>\n",
    "- 해당 텍스트는 관리자 페이지에서 검수를 받아 어플리케이션에서 최종적으로 보여집니다.<br><br>\n",
    "- API를 호출하기위해 requests 라이브러리를 사용하였습니다."
   ]
  },
  {
   "cell_type": "code",
   "execution_count": 14,
   "metadata": {},
   "outputs": [],
   "source": [
    "import requests\n",
    "\n",
    "#파싱한 텍스트를 서버API를 호출하여 DB에 밀어 넣습니다.\n",
    "for i in range(0, 1):\n",
    "    data = {\n",
    "        \"post_url\":url[i],\n",
    "        \"replace\":\"ture\",\n",
    "        \"candidate\": [\n",
    "            {\n",
    "                \"type\":\"title\",\n",
    "                \"value\":\"{}번째 테스트 게시글입니다.\".format(str(i+1))\n",
    "            },\n",
    "            {\n",
    "                \"type\":\"title\",\n",
    "                \"value\":title[i].strip()\n",
    "            },\n",
    "            {\n",
    "                \"type\":\"date\",\n",
    "                \"value\":time_set[i]\n",
    "            },\n",
    "            {\n",
    "                \"type\":\"location\",\n",
    "                \"value\":place_set[i]+howto_set[i]\n",
    "            },\n",
    "            {\n",
    "                \"type\":\"target\",\n",
    "                \"value\":targeter_set[i]\n",
    "            },\n",
    "            {\n",
    "                \"type\":\"content\",\n",
    "                \"value\":topic_set[i]\n",
    "            }\n",
    "        ],\n",
    "        \"original_text\":body[i]\n",
    "    }\n",
    "\n",
    "    r = requests.post('http://13.124.116.158:3000/create_campaign', json = data)\n",
    "\n",
    "    url = 'http://13.124.116.158:3000/create_campaign'"
   ]
  },
  {
   "cell_type": "markdown",
   "metadata": {},
   "source": [
    "## 크롤링 & 파싱 통계 <br>\n",
    "\n",
    "전체 게시글 266개<br>\n",
    "추출에 성공한 게시글 187개<br>\n",
    "하나도 추출하지 못한 게시글 79개 <br>\n",
    "<br>\n",
    "각 항목에서 <br>\n",
    "topic 실패 200개<br>\n",
    "date 실패 89개<br>\n",
    "howto 실패 152개<br>\n",
    "place 실패 183개<br>\n",
    "targeter 실패 182개<br>\n",
    "<br>\n",
    "추출 불가능 게시글(첨부파일, 이미지) 32개<br>\n",
    "결과발표 혹은 감사인사,기념사,취소안내,위험안내 등 47개<br>\n",
    "<br>\n",
    "전체 게시글 중 파싱에 성공한 경우 70.3% (187/266)"
   ]
  },
  {
   "cell_type": "code",
   "execution_count": null,
   "metadata": {},
   "outputs": [],
   "source": []
  }
 ],
 "metadata": {
  "kernelspec": {
   "display_name": "Python 3",
   "language": "python",
   "name": "python3"
  },
  "language_info": {
   "codemirror_mode": {
    "name": "ipython",
    "version": 3
   },
   "file_extension": ".py",
   "mimetype": "text/x-python",
   "name": "python",
   "nbconvert_exporter": "python",
   "pygments_lexer": "ipython3",
   "version": "3.7.4"
  }
 },
 "nbformat": 4,
 "nbformat_minor": 2
}
