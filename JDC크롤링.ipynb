{
 "cells": [
  {
   "cell_type": "code",
   "execution_count": 8,
   "metadata": {},
   "outputs": [],
   "source": [
    "from selenium import webdriver\n",
    "import bs4\n",
    "import pandas as pd\n",
    "from time import sleep\n",
    "\n",
    "\n",
    "title_names = [\n",
    "    '공모전명','사 업 명','축 제 명','사 업 명','공 모 명'\n",
    "]\n",
    "\n",
    "date_names = [\n",
    "    '공모기간', '일       시','일 시','축제 기간','응모기간','모집기간'\n",
    "    ,'사업기간','접수기간','연수기간','공고기간','제공일자','일시'\n",
    "]\n",
    "\n",
    "place_names = [\n",
    "    '장       소','장 소','축제 장소','장소',\n",
    "]\n",
    "\n",
    "content_names = [\n",
    "    '내용','사업개요','사업내용','응모주제','사업목적','연수내용'\n",
    "]\n",
    "\n",
    "target_person_name = [\n",
    "    '지원 대상','신청자격','지원대상','참여대상','참석 대상','참가 자격','모집대상',\n",
    "    '자격요건',' 신청자격','공모대상'\n",
    "]\n",
    "\n",
    "\n"
   ]
  },
  {
   "cell_type": "code",
   "execution_count": 2,
   "metadata": {},
   "outputs": [],
   "source": [
    "body = []\n",
    "title = []\n",
    "date = []\n",
    "place = []\n",
    "content = []\n",
    "target = []"
   ]
  },
  {
   "cell_type": "code",
   "execution_count": 13,
   "metadata": {
    "scrolled": true
   },
   "outputs": [
    {
     "name": "stdout",
     "output_type": "stream",
     "text": [
      "[+]게시글 241번째를 파싱했습니다[+]\n",
      "[+]게시글 242번째를 파싱했습니다[+]\n",
      "[+]게시글 243번째를 파싱했습니다[+]\n",
      "[+]게시글 244번째를 파싱했습니다[+]\n",
      "[+]게시글 245번째를 파싱했습니다[+]\n",
      "[+]게시글 246번째를 파싱했습니다[+]\n",
      "[+]게시글 247번째를 파싱했습니다[+]\n",
      "[+]게시글 248번째를 파싱했습니다[+]\n",
      "[+]게시글 249번째를 파싱했습니다[+]\n",
      "[+]게시글 250번째를 파싱했습니다[+]\n"
     ]
    }
   ],
   "source": [
    "#글의 제목과 게시글 전문을 파싱하는 코드입니다.\n",
    "driver = webdriver.Chrome('C:\\웹 드라이버\\chromedriver.exe')\n",
    "driver.implicitly_wait(1)\n",
    "driver.get('https://www.jdcenter.com/prcenter/issue/notice.cs')\n",
    "    \n",
    "html = driver.page_source\n",
    "soup = bs4.BeautifulSoup(html, 'html.parser')\n",
    "\n",
    "sleep(5)    #IDLE TIME은 자신의 인터넷 속도에 맞추어 유동적으로 할당해도 좋습니다.\n",
    "\n",
    "for i in range(241, 251):\n",
    "    \n",
    "    # 2 ~ 25 페이지를 클릭해주는 코드 입니다.\n",
    "    if 20 >= i > 10:\n",
    "        next_page = driver.find_element_by_xpath('//*[@id=\"pagination\"]/div/div/a[{}]'.format(2))\n",
    "        next_page.click() \n",
    "        sleep(3)\n",
    "    if 30 >= i > 20:\n",
    "        next_page = driver.find_element_by_xpath('//*[@id=\"pagination\"]/div/div/a[{}]'.format(3))\n",
    "        next_page.click() \n",
    "        sleep(3)\n",
    "    if 40 >= i > 30:\n",
    "        next_page = driver.find_element_by_xpath('//*[@id=\"pagination\"]/div/div/a[{}]'.format(4))\n",
    "        next_page.click() \n",
    "        sleep(3)\n",
    "    if i > 40:\n",
    "        next_page = driver.find_element_by_xpath('//*[@id=\"pagination\"]/div/div/a[{}]'.format(5))\n",
    "        next_page.click() \n",
    "        sleep(3)\n",
    "    if i > 50:\n",
    "        next_page = driver.find_element_by_xpath('//*[@id=\"pagination\"]/div/a[2]')\n",
    "        next_page.click()\n",
    "        sleep(3)\n",
    "    if i > 60:\n",
    "        if i % 10 == 0:\n",
    "            for k in range(0, (i//10)-6):\n",
    "                next_page = driver.find_element_by_xpath('//*[@id=\"pagination\"]/div/a[3]')\n",
    "                next_page.click()\n",
    "                sleep(4)\n",
    "        else:\n",
    "            for k in range(0, (i//10)-5):\n",
    "                next_page = driver.find_element_by_xpath('//*[@id=\"pagination\"]/div/a[3]')\n",
    "                next_page.click()\n",
    "                sleep(4)         \n",
    "    #------------------\n",
    "    \n",
    "    j = i%10\n",
    "    if j == 0:\n",
    "        j = 10\n",
    "\n",
    "    sleep(2)\n",
    "    post_page = driver.find_element_by_xpath('//*[@id=\"datatable\"]/tbody/tr[{}]/td[2]/a'.format(j))\n",
    "    post_page.click()\n",
    "\n",
    "    sleep(2)\n",
    "    driver.get(driver.current_url)\n",
    "    html = driver.page_source\n",
    "    soup = bs4.BeautifulSoup(html, 'html.parser')\n",
    "\n",
    "    sleep(2)\n",
    "    h3 = soup.find(\"h3\")\n",
    "    title.append(h3.text)\n",
    "\n",
    "    bod = soup.find('div', class_='bod_bd')\n",
    "    body.append(bod.text)\n",
    "\n",
    "    driver.back()\n",
    "    sleep(2)\n",
    "    \n",
    "    print('[+]게시글 '+ str(i) +'번째를 파싱했습니다[+]')\n",
    "#title과 body 배열에 각각의 요소를 파싱했습니다."
   ]
  },
  {
   "cell_type": "code",
   "execution_count": 18,
   "metadata": {},
   "outputs": [],
   "source": [
    "cnt = 0"
   ]
  },
  {
   "cell_type": "code",
   "execution_count": null,
   "metadata": {
    "scrolled": true
   },
   "outputs": [],
   "source": [
    "#파싱된 텍스트중 \\xa0을 지우는 코드 입니다.\n",
    "for i in range(0, len(body)):\n",
    "    body[i] = body[i].replace(\"\\xa0\",\"\")\n",
    "    \n",
    "#리스트에 포함된 택스트가 있다면 택스트를 기준으로 한줄 때어내어 리스트에 삽입하는 코드입니다.\n",
    "for j in range(1, 50):\n",
    "    \n",
    "    cnt += 1\n",
    "    print(j)\n",
    "            \n",
    "    #리스트에 텍스트가 없다면 NONE을 대신 삽입힙니다.\n",
    "    if len(title) == cnt-1:\n",
    "        title.append('NONE')\n",
    "\n",
    "    for i in range(0, len(date_names)):\n",
    "        if date_names[i] in body[j]:\n",
    "            a = body[j][body[j].index(date_names[i]):]\n",
    "            a = a[:a.index('\\n')]\n",
    "            date.append(a)\n",
    "            break\n",
    "            \n",
    "    if len(date) == cnt-1:\n",
    "        date.append('NONE')\n",
    "\n",
    "    for i in range(0, len(place_names)):\n",
    "        if place_names[i] in body[j]:\n",
    "            a = body[j][body[j].index(place_names[i]):]\n",
    "            a = a[:a.index('\\n')]\n",
    "            place.append(a)\n",
    "            \n",
    "    if len(place) == cnt-1:\n",
    "        place.append('NONE')\n",
    "\n",
    "    for i in range(0, len(content_names)):\n",
    "        if content_names[i] in body[j]:\n",
    "            a = body[j][body[j].index(content_names[i]):]\n",
    "            a = a[:a.index('\\n')]\n",
    "            content.append(a)\n",
    "            \n",
    "    if len(content) == cnt-1:\n",
    "        content.append('NONE')\n",
    "\n",
    "    for i in range(0, len(target_person_name)):\n",
    "        if target_person_name[i] in body[j]:\n",
    "            a = body[j][body[j].index(target_person_name[i]):]\n",
    "            a = a[:a.index('\\n')]\n",
    "            target.append(a)\n",
    "    if len(target) == cnt-1:\n",
    "        target.append('NONE')"
   ]
  },
  {
   "cell_type": "code",
   "execution_count": 14,
   "metadata": {},
   "outputs": [
    {
     "data": {
      "text/plain": [
       "250"
      ]
     },
     "execution_count": 14,
     "metadata": {},
     "output_type": "execute_result"
    }
   ],
   "source": [
    "len(title)"
   ]
  },
  {
   "cell_type": "code",
   "execution_count": 15,
   "metadata": {},
   "outputs": [
    {
     "data": {
      "text/plain": [
       "250"
      ]
     },
     "execution_count": 15,
     "metadata": {},
     "output_type": "execute_result"
    }
   ],
   "source": [
    "len(body)"
   ]
  },
  {
   "cell_type": "code",
   "execution_count": 1,
   "metadata": {},
   "outputs": [
    {
     "name": "stderr",
     "output_type": "stream",
     "text": [
      "C:\\Anaconda\\lib\\site-packages\\jpype\\_core.py:210: UserWarning: \n",
      "-------------------------------------------------------------------------------\n",
      "Deprecated: convertStrings was not specified when starting the JVM. The default\n",
      "behavior in JPype will be False starting in JPype 0.8. The recommended setting\n",
      "for new code is convertStrings=False.  The legacy value of True was assumed for\n",
      "this session. If you are a user of an application that reported this warning,\n",
      "please file a ticket with the developer.\n",
      "-------------------------------------------------------------------------------\n",
      "\n",
      "  \"\"\")\n"
     ]
    },
    {
     "ename": "OSError",
     "evalue": "[WinError 126] JVM DLL not found: C:\\Program Files\\Java\\jdk1.8.0_231\\jre\\bin\\server\\jvm.dll\n\tat Win32PlatformAdapter::loadLibrary(F:\\nelson85pl\\nelson85\\devel\\open\\jpype\\native\\common\\include\\jp_platform_win32.h:57)\n\tat JPEnv::loadJVM(native\\common\\jp_env.cpp:179)\n\tat PyJPModule::startup(native\\python\\pyjp_module.cpp:159)\n",
     "output_type": "error",
     "traceback": [
      "\u001b[1;31m---------------------------------------------------------------------------\u001b[0m",
      "\u001b[1;31mOSError\u001b[0m                                   Traceback (most recent call last)",
      "\u001b[1;32m<ipython-input-1-66def1718125>\u001b[0m in \u001b[0;36m<module>\u001b[1;34m\u001b[0m\n\u001b[0;32m      1\u001b[0m \u001b[1;32mfrom\u001b[0m \u001b[0mkonlpy\u001b[0m\u001b[1;33m.\u001b[0m\u001b[0mtag\u001b[0m \u001b[1;32mimport\u001b[0m \u001b[0mKkma\u001b[0m\u001b[1;33m\u001b[0m\u001b[1;33m\u001b[0m\u001b[0m\n\u001b[0;32m      2\u001b[0m \u001b[1;32mfrom\u001b[0m \u001b[0mkonlpy\u001b[0m\u001b[1;33m.\u001b[0m\u001b[0mutils\u001b[0m \u001b[1;32mimport\u001b[0m \u001b[0mpprint\u001b[0m\u001b[1;33m\u001b[0m\u001b[1;33m\u001b[0m\u001b[0m\n\u001b[1;32m----> 3\u001b[1;33m \u001b[0mkkma\u001b[0m \u001b[1;33m=\u001b[0m \u001b[0mKkma\u001b[0m\u001b[1;33m(\u001b[0m\u001b[1;33m)\u001b[0m\u001b[1;33m\u001b[0m\u001b[1;33m\u001b[0m\u001b[0m\n\u001b[0m\u001b[0;32m      4\u001b[0m \u001b[0mpprint\u001b[0m\u001b[1;33m(\u001b[0m\u001b[0mkkma\u001b[0m\u001b[1;33m.\u001b[0m\u001b[0msentences\u001b[0m\u001b[1;33m(\u001b[0m\u001b[1;34mu'네, 안녕하세요. 반갑습니다.'\u001b[0m\u001b[1;33m)\u001b[0m\u001b[1;33m)\u001b[0m\u001b[1;33m\u001b[0m\u001b[1;33m\u001b[0m\u001b[0m\n",
      "\u001b[1;32mC:\\Anaconda\\lib\\site-packages\\konlpy\\tag\\_kkma.py\u001b[0m in \u001b[0;36m__init__\u001b[1;34m(self, jvmpath, max_heap_size)\u001b[0m\n\u001b[0;32m     93\u001b[0m     \u001b[1;32mdef\u001b[0m \u001b[0m__init__\u001b[0m\u001b[1;33m(\u001b[0m\u001b[0mself\u001b[0m\u001b[1;33m,\u001b[0m \u001b[0mjvmpath\u001b[0m\u001b[1;33m=\u001b[0m\u001b[1;32mNone\u001b[0m\u001b[1;33m,\u001b[0m \u001b[0mmax_heap_size\u001b[0m\u001b[1;33m=\u001b[0m\u001b[1;36m1024\u001b[0m\u001b[1;33m)\u001b[0m\u001b[1;33m:\u001b[0m\u001b[1;33m\u001b[0m\u001b[1;33m\u001b[0m\u001b[0m\n\u001b[0;32m     94\u001b[0m         \u001b[1;32mif\u001b[0m \u001b[1;32mnot\u001b[0m \u001b[0mjpype\u001b[0m\u001b[1;33m.\u001b[0m\u001b[0misJVMStarted\u001b[0m\u001b[1;33m(\u001b[0m\u001b[1;33m)\u001b[0m\u001b[1;33m:\u001b[0m\u001b[1;33m\u001b[0m\u001b[1;33m\u001b[0m\u001b[0m\n\u001b[1;32m---> 95\u001b[1;33m             \u001b[0mjvm\u001b[0m\u001b[1;33m.\u001b[0m\u001b[0minit_jvm\u001b[0m\u001b[1;33m(\u001b[0m\u001b[0mjvmpath\u001b[0m\u001b[1;33m,\u001b[0m \u001b[0mmax_heap_size\u001b[0m\u001b[1;33m)\u001b[0m\u001b[1;33m\u001b[0m\u001b[1;33m\u001b[0m\u001b[0m\n\u001b[0m\u001b[0;32m     96\u001b[0m \u001b[1;33m\u001b[0m\u001b[0m\n\u001b[0;32m     97\u001b[0m         \u001b[0mkkmaJavaPackage\u001b[0m \u001b[1;33m=\u001b[0m \u001b[0mjpype\u001b[0m\u001b[1;33m.\u001b[0m\u001b[0mJPackage\u001b[0m\u001b[1;33m(\u001b[0m\u001b[1;34m'kr.lucypark.kkma'\u001b[0m\u001b[1;33m)\u001b[0m\u001b[1;33m\u001b[0m\u001b[1;33m\u001b[0m\u001b[0m\n",
      "\u001b[1;32mC:\\Anaconda\\lib\\site-packages\\konlpy\\jvm.py\u001b[0m in \u001b[0;36minit_jvm\u001b[1;34m(jvmpath, max_heap_size)\u001b[0m\n\u001b[0;32m     64\u001b[0m         jpype.startJVM(jvmpath, '-Djava.class.path=%s' % classpath,\n\u001b[0;32m     65\u001b[0m                                 \u001b[1;34m'-Dfile.encoding=UTF8'\u001b[0m\u001b[1;33m,\u001b[0m\u001b[1;33m\u001b[0m\u001b[1;33m\u001b[0m\u001b[0m\n\u001b[1;32m---> 66\u001b[1;33m                                 '-ea', '-Xmx{}m'.format(max_heap_size))\n\u001b[0m\u001b[0;32m     67\u001b[0m     \u001b[1;32melse\u001b[0m\u001b[1;33m:\u001b[0m\u001b[1;33m\u001b[0m\u001b[1;33m\u001b[0m\u001b[0m\n\u001b[0;32m     68\u001b[0m         \u001b[1;32mraise\u001b[0m \u001b[0mValueError\u001b[0m\u001b[1;33m(\u001b[0m\u001b[1;34m\"Please specify the JVM path.\"\u001b[0m\u001b[1;33m)\u001b[0m\u001b[1;33m\u001b[0m\u001b[1;33m\u001b[0m\u001b[0m\n",
      "\u001b[1;32mC:\\Anaconda\\lib\\site-packages\\jpype\\_core.py\u001b[0m in \u001b[0;36mstartJVM\u001b[1;34m(*args, **kwargs)\u001b[0m\n\u001b[0;32m    217\u001b[0m                         % (','.join([str(i) for i in kwargs])))\n\u001b[0;32m    218\u001b[0m \u001b[1;33m\u001b[0m\u001b[0m\n\u001b[1;32m--> 219\u001b[1;33m     \u001b[0m_jpype\u001b[0m\u001b[1;33m.\u001b[0m\u001b[0mstartup\u001b[0m\u001b[1;33m(\u001b[0m\u001b[0mjvmpath\u001b[0m\u001b[1;33m,\u001b[0m \u001b[0mtuple\u001b[0m\u001b[1;33m(\u001b[0m\u001b[0margs\u001b[0m\u001b[1;33m)\u001b[0m\u001b[1;33m,\u001b[0m \u001b[0mignoreUnrecognized\u001b[0m\u001b[1;33m,\u001b[0m \u001b[0mconvertStrings\u001b[0m\u001b[1;33m)\u001b[0m\u001b[1;33m\u001b[0m\u001b[1;33m\u001b[0m\u001b[0m\n\u001b[0m\u001b[0;32m    220\u001b[0m     \u001b[0m_initialize\u001b[0m\u001b[1;33m(\u001b[0m\u001b[1;33m)\u001b[0m\u001b[1;33m\u001b[0m\u001b[1;33m\u001b[0m\u001b[0m\n\u001b[0;32m    221\u001b[0m \u001b[1;33m\u001b[0m\u001b[0m\n",
      "\u001b[1;31mOSError\u001b[0m: [WinError 126] JVM DLL not found: C:\\Program Files\\Java\\jdk1.8.0_231\\jre\\bin\\server\\jvm.dll\n\tat Win32PlatformAdapter::loadLibrary(F:\\nelson85pl\\nelson85\\devel\\open\\jpype\\native\\common\\include\\jp_platform_win32.h:57)\n\tat JPEnv::loadJVM(native\\common\\jp_env.cpp:179)\n\tat PyJPModule::startup(native\\python\\pyjp_module.cpp:159)\n"
     ]
    }
   ],
   "source": [
    "from konlpy.tag import Kkma\n",
    "from konlpy.utils import pprint\n",
    "kkma = Kkma()\n",
    "pprint(kkma.sentences(u'네, 안녕하세요. 반갑습니다.'))"
   ]
  },
  {
   "cell_type": "code",
   "execution_count": null,
   "metadata": {},
   "outputs": [],
   "source": []
  }
 ],
 "metadata": {
  "kernelspec": {
   "display_name": "Python 3",
   "language": "python",
   "name": "python3"
  },
  "language_info": {
   "codemirror_mode": {
    "name": "ipython",
    "version": 3
   },
   "file_extension": ".py",
   "mimetype": "text/x-python",
   "name": "python",
   "nbconvert_exporter": "python",
   "pygments_lexer": "ipython3",
   "version": "3.7.4"
  }
 },
 "nbformat": 4,
 "nbformat_minor": 2
}
