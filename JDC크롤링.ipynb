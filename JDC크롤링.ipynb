{
 "cells": [
  {
   "cell_type": "code",
   "execution_count": 77,
   "metadata": {
    "scrolled": true
   },
   "outputs": [],
   "source": [
    "from selenium import webdriver\n",
    "import bs4\n",
    "import pandas as pd\n",
    "\n",
    "# 셀레니움을 사용하여 HTML태그를 반환하는 함수입니다.\n",
    "def get_sources():\n",
    "    \n",
    "    sources = []\n",
    "    \n",
    "    driver = webdriver.Chrome('C:\\웹 드라이버\\chromedriver.exe')\n",
    "    driver.implicitly_wait(1)\n",
    "    driver.get('https://www.jdcenter.com/prcenter/issue/notice.cs')\n",
    "    \n",
    "    html = driver.page_source\n",
    "    soup = bs4.BeautifulSoup(html, 'html.parser')\n",
    "    trs = soup.find_all(\"tr\")\n",
    "\n",
    "    # 내부에 존재하는 <tr>태그를 탐색합니다.\n",
    "    for tr in trs:\n",
    "        tds = tr.find_all('td')\n",
    "        \n",
    "        # <tr>태그 내부에 존재하는 <td>태그를 리스트에 삽입합니다.\n",
    "        for td in tds:\n",
    "            source = td.text\n",
    "            sources.append(source)\n",
    "            \n",
    "    return sources\n"
   ]
  },
  {
   "cell_type": "code",
   "execution_count": 79,
   "metadata": {},
   "outputs": [],
   "source": [
    "sources = get_sources()"
   ]
  },
  {
   "cell_type": "code",
   "execution_count": 80,
   "metadata": {},
   "outputs": [],
   "source": [
    "# 제목, 작성자, 작성일만 파싱하여 새로운 리스트에 추가합니다.\n",
    "name_data = []\n",
    "offeror_data = []\n",
    "date_data = []\n",
    "\n",
    "for i in range(len(sources)):\n",
    "    if i % 6 == 1:\n",
    "        name_data.append(sources[i])\n",
    "    elif i % 6 == 3:\n",
    "        offeror_data.append(sources[i])\n",
    "    elif i % 6 == 4:\n",
    "        date_data.append(sources[i])"
   ]
  },
  {
   "cell_type": "code",
   "execution_count": 97,
   "metadata": {},
   "outputs": [],
   "source": [
    "dict_list = {'name' : name_data, 'offeror' : offeror_data, 'date' : date_data}\n",
    "\n",
    "df = pd.DataFrame(dict_list)\n",
    "df.to_csv('data_set.csv')"
   ]
  },
  {
   "cell_type": "code",
   "execution_count": null,
   "metadata": {},
   "outputs": [],
   "source": []
  }
 ],
 "metadata": {
  "kernelspec": {
   "display_name": "Python 3",
   "language": "python",
   "name": "python3"
  },
  "language_info": {
   "codemirror_mode": {
    "name": "ipython",
    "version": 3
   },
   "file_extension": ".py",
   "mimetype": "text/x-python",
   "name": "python",
   "nbconvert_exporter": "python",
   "pygments_lexer": "ipython3",
   "version": "3.7.4"
  }
 },
 "nbformat": 4,
 "nbformat_minor": 2
}
