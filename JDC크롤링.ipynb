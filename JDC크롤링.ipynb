{
 "cells": [
  {
   "cell_type": "code",
   "execution_count": 7,
   "metadata": {
    "scrolled": true
   },
   "outputs": [],
   "source": [
    "from selenium import webdriver\n",
    "import bs4\n",
    "import pandas as pd\n",
    "from time import sleep\n",
    "\n",
    "# 셀레니움을 사용하여 HTML태그를 반환하는 함수입니다.\n",
    "def get_sources():\n",
    "    \n",
    "    sources = []\n",
    "    \n",
    "    driver = webdriver.Chrome('C:\\웹 드라이버\\chromedriver.exe')\n",
    "    driver.implicitly_wait(1)\n",
    "    driver.get('https://www.jdcenter.com/prcenter/issue/notice.cs')\n",
    "    \n",
    "    html = driver.page_source\n",
    "    soup = bs4.BeautifulSoup(html, 'html.parser')\n",
    "    \n",
    "    \n",
    "    \n",
    "    #JDC 페이지 인덱스가 일관성이 부족해서 주먹구구식으로 작성했습니다. 아마 재사용 불가능할 것 같습니다.\n",
    "\n",
    "    sleep(3)    #IDLE TIME은 자신의 인터넷 속도에 맞추어 유동적으로 할당해도 좋습니다.\n",
    "    \n",
    "    next_page = driver.find_element_by_xpath('/html/body/div[2]/div[2]/main/div/section/div[2]/div[4]/div/a[1]')\n",
    "    next_page.click()\n",
    "    sleep(2)\n",
    "    \n",
    "    for i in range(4):\n",
    "        next_page = driver.find_element_by_xpath('/html/body/div[2]/div[2]/main/div/section/div[2]/div[4]/div/a[2]')\n",
    "        next_page.click()\n",
    "        sleep(2)\n",
    "\n",
    "    for i in range(18):\n",
    "        next_page = driver.find_element_by_xpath('/html/body/div[2]/div[2]/main/div/section/div[2]/div[4]/div/a[3]')\n",
    "        next_page.click()\n",
    "        sleep(2)\n",
    "                    \n",
    "    html = driver.page_source\n",
    "    soup = bs4.BeautifulSoup(html, 'html.parser')\n",
    "    \n",
    "    # 내부에 존재하는 <tr>태그를 탐색합니다.  \n",
    "    trs = soup.find_all(\"tr\")\n",
    "    for tr in trs:\n",
    "        tds = tr.find_all('td')\n",
    "        \n",
    "        # <tr>태그 내부에 존재하는 <td>태그를 리스트에 삽입합니다.\n",
    "        for td in tds:\n",
    "            source = td.text\n",
    "            sources.append(source)\n",
    "            \n",
    "    return sources"
   ]
  },
  {
   "cell_type": "code",
   "execution_count": 8,
   "metadata": {},
   "outputs": [],
   "source": [
    "sources = get_sources()"
   ]
  },
  {
   "cell_type": "code",
   "execution_count": 11,
   "metadata": {},
   "outputs": [],
   "source": [
    "# 제목, 작성자, 작성일만 파싱하여 새로운 리스트에 추가합니다.\n",
    "name_data = []\n",
    "offeror_data = []\n",
    "date_data = []\n",
    "\n",
    "for i in range(len(sources)):\n",
    "    if i % 6 == 1:\n",
    "        name_data.append(sources[i])\n",
    "    elif i % 6 == 3:\n",
    "        offeror_data.append(sources[i])\n",
    "    elif i % 6 == 4:\n",
    "        date_data.append(sources[i])"
   ]
  },
  {
   "cell_type": "code",
   "execution_count": 16,
   "metadata": {},
   "outputs": [],
   "source": [
    "dict_list = {'name' : name_data, 'offeror' : offeror_data, 'date' : date_data}\n",
    "\n",
    "df = pd.DataFrame(dict_list)\n",
    "\n",
    "df.to_csv('data_set.csv')"
   ]
  },
  {
   "cell_type": "code",
   "execution_count": null,
   "metadata": {},
   "outputs": [],
   "source": []
  }
 ],
 "metadata": {
  "kernelspec": {
   "display_name": "Python 3",
   "language": "python",
   "name": "python3"
  },
  "language_info": {
   "codemirror_mode": {
    "name": "ipython",
    "version": 3
   },
   "file_extension": ".py",
   "mimetype": "text/x-python",
   "name": "python",
   "nbconvert_exporter": "python",
   "pygments_lexer": "ipython3",
   "version": "3.7.4"
  }
 },
 "nbformat": 4,
 "nbformat_minor": 2
}
